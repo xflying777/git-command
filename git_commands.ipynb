{
 "metadata": {
  "name": "git_commands",
  "signature": "sha256:1c37606b9e3e71cc1ba04712aa980ec76aab4321cb1aa8fef420430f0b562f71"
 },
 "nbformat": 3,
 "nbformat_minor": 0,
 "worksheets": [
  {
   "cells": [
    {
     "cell_type": "markdown",
     "metadata": {},
     "source": [
      "# (1) \u62c9\u65b0\u5c08\u6848"
     ]
    },
    {
     "cell_type": "markdown",
     "metadata": {},
     "source": [
      "# git clone ..."
     ]
    },
    {
     "cell_type": "markdown",
     "metadata": {},
     "source": [
      "# (2) git status"
     ]
    },
    {
     "cell_type": "markdown",
     "metadata": {},
     "source": [
      "# (3) git add"
     ]
    },
    {
     "cell_type": "markdown",
     "metadata": {},
     "source": [
      "# (3.1) git add -i"
     ]
    },
    {
     "cell_type": "markdown",
     "metadata": {},
     "source": [
      "# (4) git commit "
     ]
    },
    {
     "cell_type": "markdown",
     "metadata": {},
     "source": [
      "# (4.1) git commit -m \"commit message\""
     ]
    },
    {
     "cell_type": "markdown",
     "metadata": {},
     "source": [
      "# (5) git push "
     ]
    },
    {
     "cell_type": "markdown",
     "metadata": {},
     "source": [
      "# (5.1) git push -u origin master"
     ]
    },
    {
     "cell_type": "code",
     "collapsed": false,
     "input": [],
     "language": "python",
     "metadata": {},
     "outputs": []
    }
   ],
   "metadata": {}
  }
 ]
}